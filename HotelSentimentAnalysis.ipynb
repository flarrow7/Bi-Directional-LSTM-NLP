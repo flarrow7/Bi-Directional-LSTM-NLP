{
 "cells": [
  {
   "cell_type": "markdown",
   "metadata": {},
   "source": [
    "<h3> Bidirectional LSTM in Keras using GloVe embeddings and nltk on TripAdvisor hotel reviews. Additional analysis done\n",
    "to find the most 'positive' and 'negative' words throughout reviews. </h3>"
   ]
  },
  {
   "cell_type": "code",
   "execution_count": 1,
   "metadata": {},
   "outputs": [
    {
     "name": "stderr",
     "output_type": "stream",
     "text": [
      "Using TensorFlow backend.\n"
     ]
    },
    {
     "name": "stdout",
     "output_type": "stream",
     "text": [
      "Libraries imported successfully\n"
     ]
    }
   ],
   "source": [
    "import numpy as np #Lin Alg\n",
    "import pandas as pd # Data preprocessing\n",
    "\n",
    "#SkLearn\n",
    "from sklearn.feature_extraction.text import CountVectorizer\n",
    "from sklearn.metrics import confusion_matrix, accuracy_score\n",
    "from sklearn.model_selection import train_test_split\n",
    "\n",
    "#Keras\n",
    "from keras.preprocessing.text import Tokenizer\n",
    "from keras.preprocessing.sequence import pad_sequences\n",
    "from keras.models import Sequential\n",
    "from keras.layers import *\n",
    "from keras.utils.np_utils import to_categorical\n",
    "from keras.initializers import Constant\n",
    "import re\n",
    "\n",
    "#NLTK\n",
    "#!pip install nltk #uncommennt this to install nltk if needed\n",
    "import nltk\n",
    "#nltk.download('stopwords') #uncomment these to download the stop words package if needed\n",
    "from nltk.corpus import stopwords\n",
    "\n",
    "#TextBlob\n",
    "#!pip install textblob\n",
    "from textblob import TextBlob\n",
    "\n",
    "#Plotting\n",
    "import matplotlib.pyplot as plt\n",
    "\n",
    "print('Libraries imported successfully')"
   ]
  },
  {
   "cell_type": "code",
   "execution_count": 20,
   "metadata": {},
   "outputs": [],
   "source": [
    "#Make sure the data is saved in encoding 'utf-8' format\n",
    "df = pd.read_csv('hotels.csv', sep = ',')\n",
    "df = df[['Review', 'Rating']]\n",
    "\n",
    "pd.set_option('display.max_colwidth', -1)\n"
   ]
  },
  {
   "cell_type": "markdown",
   "metadata": {},
   "source": [
    "<h3> Plot to get an idea of how many different types of reviews there are </h3>"
   ]
  },
  {
   "cell_type": "code",
   "execution_count": 21,
   "metadata": {},
   "outputs": [
    {
     "data": {
      "text/plain": [
       "<matplotlib.axes._subplots.AxesSubplot at 0x1a3f594da0>"
      ]
     },
     "execution_count": 21,
     "metadata": {},
     "output_type": "execute_result"
    },
    {
     "data": {
      "image/png": "[encoded data removed]",
      "text/plain": [
       "<Figure size 432x288 with 1 Axes>"
      ]
     },
     "metadata": {},
     "output_type": "display_data"
    }
   ],
   "source": [
    "df['Rating'].value_counts().plot(kind = 'bar')"
   ]
  },
  {
   "cell_type": "markdown",
   "metadata": {},
   "source": [
    "<h3> Clean Up reviews, this will be needed for Analysis later </h3>"
   ]
  },
  {
   "cell_type": "code",
   "execution_count": 22,
   "metadata": {},
   "outputs": [
    {
     "data": {
      "text/html": [
       "<div>\n",
       "<style scoped>\n",
       "    .dataframe tbody tr th:only-of-type {\n",
       "        vertical-align: middle;\n",
       "    }\n",
       "\n",
       "    .dataframe tbody tr th {\n",
       "        vertical-align: top;\n",
       "    }\n",
       "\n",
       "    .dataframe thead th {\n",
       "        text-align: right;\n",
       "    }\n",
       "</style>\n",
       "<table border=\"1\" class=\"dataframe\">\n",
       "  <thead>\n",
       "    <tr style=\"text-align: right;\">\n",
       "      <th></th>\n",
       "      <th>Review</th>\n",
       "      <th>Rating</th>\n",
       "    </tr>\n",
       "  </thead>\n",
       "  <tbody>\n",
       "    <tr>\n",
       "      <th>0</th>\n",
       "      <td>nice hotel expensive parking got good deal stay hotel anniversary \\tarrived late evening took advice previous reviews did valet parking \\tcheck quick easy \\tlittle disappointed non-existent view room room clean nice size \\tbed comfortable woke stiff neck high pillows \\tnot soundproof like heard music room night morning loud bangs doors opening closing hear people talking hallway \\tmaybe just noisy neighbors \\taveda bath products nice \\tdid not goldfish stay nice touch taken advantage staying longer \\tlocation great walking distance shopping \\toverall nice experience having pay 40 parking night \\t</td>\n",
       "      <td>4</td>\n",
       "    </tr>\n",
       "    <tr>\n",
       "      <th>1</th>\n",
       "      <td>ok nothing special charge diamond member hilton decided chain shot 20th anniversary seattle \\tstart booked suite paid extra website description not \\tsuite bedroom bathroom standard hotel room \\ttook printed reservation desk showed said things like tv couch ect desk clerk told oh mixed suites description kimpton website sorry free breakfast \\tgot kidding \\tembassy suits sitting room bathroom bedroom unlike kimpton calls suite \\t5 day stay offer correct false advertising \\tsend kimpton preferred guest website email asking failure provide suite advertised website reservation description furnished hard copy reservation printout website desk manager duty did not reply solution \\tsend email trip guest survey did not follow email mail \\tguess tell concerned guest.the staff ranged indifferent not helpful \\tasked desk good breakfast spots neighborhood hood told no hotels \\tgee best breakfast spots seattle 1/2 block away convenient hotel does not know exist \\tarrived late night 11 pm inside run bellman busy chating cell phone help bags.prior arrival emailed hotel inform 20th anniversary half really picky wanted make sure good \\tgot nice email saying like deliver bottle champagne chocolate covered strawberries room arrival celebrate \\ttold needed foam pillows \\tarrival no champagne strawberries no foam pillows great room view alley high rise building good not better housekeeping staff cleaner room property \\timpressed left morning shopping room got short trips 2 hours \\tbeds comfortable.not good ac-heat control 4 x 4 inch screen bring green shine directly eyes night \\tlight sensitive tape controls.this not 4 start hotel clean business hotel super high rates \\tbetter chain hotels seattle \\t</td>\n",
       "      <td>2</td>\n",
       "    </tr>\n",
       "    <tr>\n",
       "      <th>2</th>\n",
       "      <td>nice rooms not 4* experience hotel monaco seattle good hotel n't 4* level.positives large bathroom mediterranean suite comfortable bed pillowsattentive housekeeping staffnegatives ac unit malfunctioned stay desk disorganized \\tmissed 3 separate wakeup calls \\tconcierge busy hard touch \\tdid n't provide guidance special requests.tv hard use ipod sound dock suite non functioning. decided book mediterranean suite 3 night weekend stay 1st choice rest party filled \\tcomparison w spent 45 night larger square footage room great soaking tub whirlpool jets nice shower.before stay hotel arrange car service price 53 tip reasonable driver waiting arrival.checkin easy downside room picked 2 person jacuzi tub no bath accessories salts bubble bath did n't stay \\tnight got 12/1a checked voucher bottle champagne nice gesture fish waiting room \\timpression room huge open space felt room big \\ttv far away bed chore change channel \\tipod dock broken disappointing.in morning way asked desk check thermostat said 65f 74 2 degrees warm try cover face night bright blue light kept \\tgot room night no \\t1st drop desk \\tcalled maintainence came look thermostat told play settings happy digital box wo n't work \\tasked wakeup 10am morning did n't happen \\tcalled later 6pm nap wakeup forgot \\t10am wakeup morning yep forgotten.the bathroom facilities great room surprised room sold whirlpool bath tub n't bath amenities \\tgreat relax water jets going \\t</td>\n",
       "      <td>3</td>\n",
       "    </tr>\n",
       "    <tr>\n",
       "      <th>3</th>\n",
       "      <td>unique \\tgreat stay \\twonderful time hotel monaco \\tlocation excellent short stroll main downtown shopping area \\tpet friendly room showed no signs animal hair smells \\tmonaco suite sleeping area big striped curtains pulled closed nice touch felt cosy \\tgoldfish named brandi enjoyed \\tdid n't partake free wine coffee/tea service lobby thought great feature \\tgreat staff friendly \\tfree wireless internet hotel worked suite 2 laptops \\tdecor lovely eclectic mix pattens color palatte \\tanimal print bathrobes feel like rock stars \\tnice did n't look like sterile chain hotel hotel personality excellent stay \\t</td>\n",
       "      <td>5</td>\n",
       "    </tr>\n",
       "    <tr>\n",
       "      <th>4</th>\n",
       "      <td>great stay great stay \\twent seahawk game awesome \\tdownfall view building did n't complain \\troom huge staff helpful \\tbooked hotels website seahawk package \\tno charge parking got voucher taxi \\tproblem taxi driver did n't want accept voucher barely spoke english \\tfunny thing speak arabic called started making comments girlfriend cell phone buddy \\ttook second realize just said fact speak language face priceless \\tass told \\tsaid large city \\ttold head doorman issue called cab company promply answer did n't \\tapologized offered pay taxi \\tbucks 2 miles stadium \\tgame plan taxi return going humpin \\tgreat walk did n't mind \\tright christmas wonderful lights \\thomeless stowed away building entrances leave \\tpolice presence not greatest area stadium \\tactivities 7 blocks pike street waterfront great coffee shops way \\thotel mantained foyer awesome \\twine tasting available evening \\tbest dog \\ttaking st. bernard time family \\tsafes hotel located service desk room \\tbathroom huge jetted tub huge \\tfunny house keeping walked girlfriend getting dressed \\tdid n't hear knock doing turn service \\tscreamed girlfriend screams hit floor laughing \\tstarted talking spanish worked \\tplace recommend price \\tcheck online deals just good not better \\tbesite contains deals vouchers travel websites n't tell \\t</td>\n",
       "      <td>5</td>\n",
       "    </tr>\n",
       "  </tbody>\n",
       "</table>\n",
       "</div>"
      ],
      "text/plain": [
       "                                                                                                                                                                                                                                                                                                                                                                                                                                                                                                                                                                                                                                                                                                                                                                                                                                                                                                                                                                                                                                                                                                                                                                                                                                                                                                                                                                                                                                                                                                                                                                                                                                                                                                                                                                          Review  \\\n",
       "0  nice hotel expensive parking got good deal stay hotel anniversary \\tarrived late evening took advice previous reviews did valet parking \\tcheck quick easy \\tlittle disappointed non-existent view room room clean nice size \\tbed comfortable woke stiff neck high pillows \\tnot soundproof like heard music room night morning loud bangs doors opening closing hear people talking hallway \\tmaybe just noisy neighbors \\taveda bath products nice \\tdid not goldfish stay nice touch taken advantage staying longer \\tlocation great walking distance shopping \\toverall nice experience having pay 40 parking night \\t                                                                                                                                                                                                                                                                                                                                                                                                                                                                                                                                                                                                                                                                                                                                                                                                                                                                                                                                                                                                                                                                                                                                                     \n",
       "1  ok nothing special charge diamond member hilton decided chain shot 20th anniversary seattle \\tstart booked suite paid extra website description not \\tsuite bedroom bathroom standard hotel room \\ttook printed reservation desk showed said things like tv couch ect desk clerk told oh mixed suites description kimpton website sorry free breakfast \\tgot kidding \\tembassy suits sitting room bathroom bedroom unlike kimpton calls suite \\t5 day stay offer correct false advertising \\tsend kimpton preferred guest website email asking failure provide suite advertised website reservation description furnished hard copy reservation printout website desk manager duty did not reply solution \\tsend email trip guest survey did not follow email mail \\tguess tell concerned guest.the staff ranged indifferent not helpful \\tasked desk good breakfast spots neighborhood hood told no hotels \\tgee best breakfast spots seattle 1/2 block away convenient hotel does not know exist \\tarrived late night 11 pm inside run bellman busy chating cell phone help bags.prior arrival emailed hotel inform 20th anniversary half really picky wanted make sure good \\tgot nice email saying like deliver bottle champagne chocolate covered strawberries room arrival celebrate \\ttold needed foam pillows \\tarrival no champagne strawberries no foam pillows great room view alley high rise building good not better housekeeping staff cleaner room property \\timpressed left morning shopping room got short trips 2 hours \\tbeds comfortable.not good ac-heat control 4 x 4 inch screen bring green shine directly eyes night \\tlight sensitive tape controls.this not 4 start hotel clean business hotel super high rates \\tbetter chain hotels seattle \\t    \n",
       "2  nice rooms not 4* experience hotel monaco seattle good hotel n't 4* level.positives large bathroom mediterranean suite comfortable bed pillowsattentive housekeeping staffnegatives ac unit malfunctioned stay desk disorganized \\tmissed 3 separate wakeup calls \\tconcierge busy hard touch \\tdid n't provide guidance special requests.tv hard use ipod sound dock suite non functioning. decided book mediterranean suite 3 night weekend stay 1st choice rest party filled \\tcomparison w spent 45 night larger square footage room great soaking tub whirlpool jets nice shower.before stay hotel arrange car service price 53 tip reasonable driver waiting arrival.checkin easy downside room picked 2 person jacuzi tub no bath accessories salts bubble bath did n't stay \\tnight got 12/1a checked voucher bottle champagne nice gesture fish waiting room \\timpression room huge open space felt room big \\ttv far away bed chore change channel \\tipod dock broken disappointing.in morning way asked desk check thermostat said 65f 74 2 degrees warm try cover face night bright blue light kept \\tgot room night no \\t1st drop desk \\tcalled maintainence came look thermostat told play settings happy digital box wo n't work \\tasked wakeup 10am morning did n't happen \\tcalled later 6pm nap wakeup forgot \\t10am wakeup morning yep forgotten.the bathroom facilities great room surprised room sold whirlpool bath tub n't bath amenities \\tgreat relax water jets going \\t                                                                                                                                                                                                                                                                              \n",
       "3  unique \\tgreat stay \\twonderful time hotel monaco \\tlocation excellent short stroll main downtown shopping area \\tpet friendly room showed no signs animal hair smells \\tmonaco suite sleeping area big striped curtains pulled closed nice touch felt cosy \\tgoldfish named brandi enjoyed \\tdid n't partake free wine coffee/tea service lobby thought great feature \\tgreat staff friendly \\tfree wireless internet hotel worked suite 2 laptops \\tdecor lovely eclectic mix pattens color palatte \\tanimal print bathrobes feel like rock stars \\tnice did n't look like sterile chain hotel hotel personality excellent stay \\t                                                                                                                                                                                                                                                                                                                                                                                                                                                                                                                                                                                                                                                                                                                                                                                                                                                                                                                                                                                                                                                                                                                                            \n",
       "4  great stay great stay \\twent seahawk game awesome \\tdownfall view building did n't complain \\troom huge staff helpful \\tbooked hotels website seahawk package \\tno charge parking got voucher taxi \\tproblem taxi driver did n't want accept voucher barely spoke english \\tfunny thing speak arabic called started making comments girlfriend cell phone buddy \\ttook second realize just said fact speak language face priceless \\tass told \\tsaid large city \\ttold head doorman issue called cab company promply answer did n't \\tapologized offered pay taxi \\tbucks 2 miles stadium \\tgame plan taxi return going humpin \\tgreat walk did n't mind \\tright christmas wonderful lights \\thomeless stowed away building entrances leave \\tpolice presence not greatest area stadium \\tactivities 7 blocks pike street waterfront great coffee shops way \\thotel mantained foyer awesome \\twine tasting available evening \\tbest dog \\ttaking st. bernard time family \\tsafes hotel located service desk room \\tbathroom huge jetted tub huge \\tfunny house keeping walked girlfriend getting dressed \\tdid n't hear knock doing turn service \\tscreamed girlfriend screams hit floor laughing \\tstarted talking spanish worked \\tplace recommend price \\tcheck online deals just good not better \\tbesite contains deals vouchers travel websites n't tell \\t                                                                                                                                                                                                                                                                                                                                                                                                               \n",
       "\n",
       "   Rating  \n",
       "0  4       \n",
       "1  2       \n",
       "2  3       \n",
       "3  5       \n",
       "4  5       "
      ]
     },
     "execution_count": 22,
     "metadata": {},
     "output_type": "execute_result"
    }
   ],
   "source": [
    "df.head()"
   ]
  },
  {
   "cell_type": "markdown",
   "metadata": {},
   "source": [
    "<h3> Decipher what a 'positive' and 'negative' review is and replace Rating column values in df </h3>"
   ]
  },
  {
   "cell_type": "code",
   "execution_count": 23,
   "metadata": {},
   "outputs": [
    {
     "data": {
      "text/html": [
       "<div>\n",
       "<style scoped>\n",
       "    .dataframe tbody tr th:only-of-type {\n",
       "        vertical-align: middle;\n",
       "    }\n",
       "\n",
       "    .dataframe tbody tr th {\n",
       "        vertical-align: top;\n",
       "    }\n",
       "\n",
       "    .dataframe thead th {\n",
       "        text-align: right;\n",
       "    }\n",
       "</style>\n",
       "<table border=\"1\" class=\"dataframe\">\n",
       "  <thead>\n",
       "    <tr style=\"text-align: right;\">\n",
       "      <th></th>\n",
       "      <th>Review</th>\n",
       "      <th>Rating</th>\n",
       "    </tr>\n",
       "  </thead>\n",
       "  <tbody>\n",
       "    <tr>\n",
       "      <th>0</th>\n",
       "      <td>nice hotel expensive parking got good deal stay hotel anniversary \\tarrived late evening took advice previous reviews did valet parking \\tcheck quick easy \\tlittle disappointed non-existent view room room clean nice size \\tbed comfortable woke stiff neck high pillows \\tnot soundproof like heard music room night morning loud bangs doors opening closing hear people talking hallway \\tmaybe just noisy neighbors \\taveda bath products nice \\tdid not goldfish stay nice touch taken advantage staying longer \\tlocation great walking distance shopping \\toverall nice experience having pay 40 parking night \\t</td>\n",
       "      <td>Positive</td>\n",
       "    </tr>\n",
       "    <tr>\n",
       "      <th>1</th>\n",
       "      <td>ok nothing special charge diamond member hilton decided chain shot 20th anniversary seattle \\tstart booked suite paid extra website description not \\tsuite bedroom bathroom standard hotel room \\ttook printed reservation desk showed said things like tv couch ect desk clerk told oh mixed suites description kimpton website sorry free breakfast \\tgot kidding \\tembassy suits sitting room bathroom bedroom unlike kimpton calls suite \\t5 day stay offer correct false advertising \\tsend kimpton preferred guest website email asking failure provide suite advertised website reservation description furnished hard copy reservation printout website desk manager duty did not reply solution \\tsend email trip guest survey did not follow email mail \\tguess tell concerned guest.the staff ranged indifferent not helpful \\tasked desk good breakfast spots neighborhood hood told no hotels \\tgee best breakfast spots seattle 1/2 block away convenient hotel does not know exist \\tarrived late night 11 pm inside run bellman busy chating cell phone help bags.prior arrival emailed hotel inform 20th anniversary half really picky wanted make sure good \\tgot nice email saying like deliver bottle champagne chocolate covered strawberries room arrival celebrate \\ttold needed foam pillows \\tarrival no champagne strawberries no foam pillows great room view alley high rise building good not better housekeeping staff cleaner room property \\timpressed left morning shopping room got short trips 2 hours \\tbeds comfortable.not good ac-heat control 4 x 4 inch screen bring green shine directly eyes night \\tlight sensitive tape controls.this not 4 start hotel clean business hotel super high rates \\tbetter chain hotels seattle \\t</td>\n",
       "      <td>Negative</td>\n",
       "    </tr>\n",
       "    <tr>\n",
       "      <th>2</th>\n",
       "      <td>nice rooms not 4* experience hotel monaco seattle good hotel n't 4* level.positives large bathroom mediterranean suite comfortable bed pillowsattentive housekeeping staffnegatives ac unit malfunctioned stay desk disorganized \\tmissed 3 separate wakeup calls \\tconcierge busy hard touch \\tdid n't provide guidance special requests.tv hard use ipod sound dock suite non functioning. decided book mediterranean suite 3 night weekend stay 1st choice rest party filled \\tcomparison w spent 45 night larger square footage room great soaking tub whirlpool jets nice shower.before stay hotel arrange car service price 53 tip reasonable driver waiting arrival.checkin easy downside room picked 2 person jacuzi tub no bath accessories salts bubble bath did n't stay \\tnight got 12/1a checked voucher bottle champagne nice gesture fish waiting room \\timpression room huge open space felt room big \\ttv far away bed chore change channel \\tipod dock broken disappointing.in morning way asked desk check thermostat said 65f 74 2 degrees warm try cover face night bright blue light kept \\tgot room night no \\t1st drop desk \\tcalled maintainence came look thermostat told play settings happy digital box wo n't work \\tasked wakeup 10am morning did n't happen \\tcalled later 6pm nap wakeup forgot \\t10am wakeup morning yep forgotten.the bathroom facilities great room surprised room sold whirlpool bath tub n't bath amenities \\tgreat relax water jets going \\t</td>\n",
       "      <td>Positive</td>\n",
       "    </tr>\n",
       "    <tr>\n",
       "      <th>3</th>\n",
       "      <td>unique \\tgreat stay \\twonderful time hotel monaco \\tlocation excellent short stroll main downtown shopping area \\tpet friendly room showed no signs animal hair smells \\tmonaco suite sleeping area big striped curtains pulled closed nice touch felt cosy \\tgoldfish named brandi enjoyed \\tdid n't partake free wine coffee/tea service lobby thought great feature \\tgreat staff friendly \\tfree wireless internet hotel worked suite 2 laptops \\tdecor lovely eclectic mix pattens color palatte \\tanimal print bathrobes feel like rock stars \\tnice did n't look like sterile chain hotel hotel personality excellent stay \\t</td>\n",
       "      <td>Positive</td>\n",
       "    </tr>\n",
       "    <tr>\n",
       "      <th>4</th>\n",
       "      <td>great stay great stay \\twent seahawk game awesome \\tdownfall view building did n't complain \\troom huge staff helpful \\tbooked hotels website seahawk package \\tno charge parking got voucher taxi \\tproblem taxi driver did n't want accept voucher barely spoke english \\tfunny thing speak arabic called started making comments girlfriend cell phone buddy \\ttook second realize just said fact speak language face priceless \\tass told \\tsaid large city \\ttold head doorman issue called cab company promply answer did n't \\tapologized offered pay taxi \\tbucks 2 miles stadium \\tgame plan taxi return going humpin \\tgreat walk did n't mind \\tright christmas wonderful lights \\thomeless stowed away building entrances leave \\tpolice presence not greatest area stadium \\tactivities 7 blocks pike street waterfront great coffee shops way \\thotel mantained foyer awesome \\twine tasting available evening \\tbest dog \\ttaking st. bernard time family \\tsafes hotel located service desk room \\tbathroom huge jetted tub huge \\tfunny house keeping walked girlfriend getting dressed \\tdid n't hear knock doing turn service \\tscreamed girlfriend screams hit floor laughing \\tstarted talking spanish worked \\tplace recommend price \\tcheck online deals just good not better \\tbesite contains deals vouchers travel websites n't tell \\t</td>\n",
       "      <td>Positive</td>\n",
       "    </tr>\n",
       "  </tbody>\n",
       "</table>\n",
       "</div>"
      ],
      "text/plain": [
       "                                                                                                                                                                                                                                                                                                                                                                                                                                                                                                                                                                                                                                                                                                                                                                                                                                                                                                                                                                                                                                                                                                                                                                                                                                                                                                                                                                                                                                                                                                                                                                                                                                                                                                                                                                          Review  \\\n",
       "0  nice hotel expensive parking got good deal stay hotel anniversary \\tarrived late evening took advice previous reviews did valet parking \\tcheck quick easy \\tlittle disappointed non-existent view room room clean nice size \\tbed comfortable woke stiff neck high pillows \\tnot soundproof like heard music room night morning loud bangs doors opening closing hear people talking hallway \\tmaybe just noisy neighbors \\taveda bath products nice \\tdid not goldfish stay nice touch taken advantage staying longer \\tlocation great walking distance shopping \\toverall nice experience having pay 40 parking night \\t                                                                                                                                                                                                                                                                                                                                                                                                                                                                                                                                                                                                                                                                                                                                                                                                                                                                                                                                                                                                                                                                                                                                                     \n",
       "1  ok nothing special charge diamond member hilton decided chain shot 20th anniversary seattle \\tstart booked suite paid extra website description not \\tsuite bedroom bathroom standard hotel room \\ttook printed reservation desk showed said things like tv couch ect desk clerk told oh mixed suites description kimpton website sorry free breakfast \\tgot kidding \\tembassy suits sitting room bathroom bedroom unlike kimpton calls suite \\t5 day stay offer correct false advertising \\tsend kimpton preferred guest website email asking failure provide suite advertised website reservation description furnished hard copy reservation printout website desk manager duty did not reply solution \\tsend email trip guest survey did not follow email mail \\tguess tell concerned guest.the staff ranged indifferent not helpful \\tasked desk good breakfast spots neighborhood hood told no hotels \\tgee best breakfast spots seattle 1/2 block away convenient hotel does not know exist \\tarrived late night 11 pm inside run bellman busy chating cell phone help bags.prior arrival emailed hotel inform 20th anniversary half really picky wanted make sure good \\tgot nice email saying like deliver bottle champagne chocolate covered strawberries room arrival celebrate \\ttold needed foam pillows \\tarrival no champagne strawberries no foam pillows great room view alley high rise building good not better housekeeping staff cleaner room property \\timpressed left morning shopping room got short trips 2 hours \\tbeds comfortable.not good ac-heat control 4 x 4 inch screen bring green shine directly eyes night \\tlight sensitive tape controls.this not 4 start hotel clean business hotel super high rates \\tbetter chain hotels seattle \\t    \n",
       "2  nice rooms not 4* experience hotel monaco seattle good hotel n't 4* level.positives large bathroom mediterranean suite comfortable bed pillowsattentive housekeeping staffnegatives ac unit malfunctioned stay desk disorganized \\tmissed 3 separate wakeup calls \\tconcierge busy hard touch \\tdid n't provide guidance special requests.tv hard use ipod sound dock suite non functioning. decided book mediterranean suite 3 night weekend stay 1st choice rest party filled \\tcomparison w spent 45 night larger square footage room great soaking tub whirlpool jets nice shower.before stay hotel arrange car service price 53 tip reasonable driver waiting arrival.checkin easy downside room picked 2 person jacuzi tub no bath accessories salts bubble bath did n't stay \\tnight got 12/1a checked voucher bottle champagne nice gesture fish waiting room \\timpression room huge open space felt room big \\ttv far away bed chore change channel \\tipod dock broken disappointing.in morning way asked desk check thermostat said 65f 74 2 degrees warm try cover face night bright blue light kept \\tgot room night no \\t1st drop desk \\tcalled maintainence came look thermostat told play settings happy digital box wo n't work \\tasked wakeup 10am morning did n't happen \\tcalled later 6pm nap wakeup forgot \\t10am wakeup morning yep forgotten.the bathroom facilities great room surprised room sold whirlpool bath tub n't bath amenities \\tgreat relax water jets going \\t                                                                                                                                                                                                                                                                              \n",
       "3  unique \\tgreat stay \\twonderful time hotel monaco \\tlocation excellent short stroll main downtown shopping area \\tpet friendly room showed no signs animal hair smells \\tmonaco suite sleeping area big striped curtains pulled closed nice touch felt cosy \\tgoldfish named brandi enjoyed \\tdid n't partake free wine coffee/tea service lobby thought great feature \\tgreat staff friendly \\tfree wireless internet hotel worked suite 2 laptops \\tdecor lovely eclectic mix pattens color palatte \\tanimal print bathrobes feel like rock stars \\tnice did n't look like sterile chain hotel hotel personality excellent stay \\t                                                                                                                                                                                                                                                                                                                                                                                                                                                                                                                                                                                                                                                                                                                                                                                                                                                                                                                                                                                                                                                                                                                                            \n",
       "4  great stay great stay \\twent seahawk game awesome \\tdownfall view building did n't complain \\troom huge staff helpful \\tbooked hotels website seahawk package \\tno charge parking got voucher taxi \\tproblem taxi driver did n't want accept voucher barely spoke english \\tfunny thing speak arabic called started making comments girlfriend cell phone buddy \\ttook second realize just said fact speak language face priceless \\tass told \\tsaid large city \\ttold head doorman issue called cab company promply answer did n't \\tapologized offered pay taxi \\tbucks 2 miles stadium \\tgame plan taxi return going humpin \\tgreat walk did n't mind \\tright christmas wonderful lights \\thomeless stowed away building entrances leave \\tpolice presence not greatest area stadium \\tactivities 7 blocks pike street waterfront great coffee shops way \\thotel mantained foyer awesome \\twine tasting available evening \\tbest dog \\ttaking st. bernard time family \\tsafes hotel located service desk room \\tbathroom huge jetted tub huge \\tfunny house keeping walked girlfriend getting dressed \\tdid n't hear knock doing turn service \\tscreamed girlfriend screams hit floor laughing \\tstarted talking spanish worked \\tplace recommend price \\tcheck online deals just good not better \\tbesite contains deals vouchers travel websites n't tell \\t                                                                                                                                                                                                                                                                                                                                                                                                               \n",
       "\n",
       "     Rating  \n",
       "0  Positive  \n",
       "1  Negative  \n",
       "2  Positive  \n",
       "3  Positive  \n",
       "4  Positive  "
      ]
     },
     "execution_count": 23,
     "metadata": {},
     "output_type": "execute_result"
    }
   ],
   "source": [
    "positive_reviews = df.loc[df['Rating'] >= int(3), 'Rating']\n",
    "negative_reviews = df.loc[df['Rating'] <= int(2), 'Rating']\n",
    "\n",
    "df.Rating.replace(positive_reviews, 'Positive', inplace=True, regex= True)\n",
    "df.Rating.replace(negative_reviews, 'Negative', inplace=True, regex = True)\n",
    "df.head()"
   ]
  },
  {
   "cell_type": "code",
   "execution_count": 24,
   "metadata": {},
   "outputs": [
    {
     "data": {
      "text/plain": [
       "0"
      ]
     },
     "execution_count": 24,
     "metadata": {},
     "output_type": "execute_result"
    }
   ],
   "source": [
    "#Confirm all values were changed to either negative or positive in the Ratings column\n",
    "df.Rating.isnull().sum()"
   ]
  },
  {
   "cell_type": "markdown",
   "metadata": {},
   "source": [
    "<h3> Nice all reviews have been changed, Let's clean these reviews they look pretty sloppy </h3>"
   ]
  },
  {
   "cell_type": "code",
   "execution_count": 25,
   "metadata": {},
   "outputs": [],
   "source": [
    "replace_puncts = {'`': \"'\", '′': \"'\", '“':'\"', '”': '\"', '‘': \"'\"}\n",
    "\n",
    "strip_chars = [',', '.', '\"', ':', ')', '(', '-', '|', ';', \"'\", '[', ']', '>', '=', '+', '\\\\', '•',  '~', '@', \n",
    " '·', '_', '{', '}', '©', '^', '®', '`',  '<', '→', '°', '€', '™', '›',  '♥', '←', '×', '§', '″', '′', 'Â', '█', '½', 'à', '…', \n",
    " '“', '★', '”', '–', '●', 'â', '►', '−', '¢', '²', '¬', '░', '¶', '↑', '±', '¿', '▾', '═', '¦', '║', '―', '¥', '▓', '—', '‹', '─', \n",
    " '▒', '：', '¼', '⊕', '▼', '▪', '†', '■', '’', '▀', '¨', '▄', '♫', '☆', 'é', '¯', '♦', '¤', '▲', 'è', '¸', '¾', 'Ã', '⋅', '‘', '∞', \n",
    " '∙', '）', '↓', '、', '│', '（', '»', '，', '♪', '╩', '╚', '³', '・', '╦', '╣', '╔', '╗', '▬', '❤', 'ï', 'Ø', '¹', '≤', '‡', '√', '\\t' ]\n",
    "\n",
    "puncts = ['!', '?', '$', '&', '/', '%', '#', '*','£']\n",
    "\n",
    "def clean_sen(x):\n",
    "    x = str(x)\n",
    "\n",
    "    x = re.sub(r\"(https?:\\/\\/(?:www\\.|(?!www))[a-zA-Z0-9][a-zA-Z0-9-]+[a-zA-Z0-9]\\.[^\\s]{2,}|www\\.[a-zA-Z0-9][a-zA-Z0-9-]+[a-zA-Z0-9]\\.[^\\s]{2,}|https?:\\/\\/(?:www\\.|(?!www))[a-zA-Z0-9]\\.[^\\s]{2,}|www\\.[a-zA-Z0-9]\\.[^\\s]{2,})\", \"url\", x)\n",
    "    \n",
    "    for k, v in replace_puncts.items():\n",
    "        x = x.replace(k, f' {v} ')\n",
    "    \n",
    "    for pun in strip_chars:\n",
    "        x = x.replace(pun, ' ')\n",
    "        \n",
    "    for pun in puncts:\n",
    "        x = x.replace(pun, f' {pun} ')\n",
    "        \n",
    "    x = x.replace(\" '\", ' ')\n",
    "    x = x.replace(\"' \", ' ')\n",
    "    \n",
    "    return x\n",
    "\n",
    "df['Review'] = df['Review'].apply(clean_sen)\n",
    "\n",
    "#Stop words used from NLTK library are commonly used in English language but have no predictive power in practice\n",
    "stop_ = stopwords.words('english')\n",
    "df['Review'] = df['Review'].apply(lambda x: ' '.join(x for x in x.split() if x not in stop_))"
   ]
  },
  {
   "cell_type": "code",
   "execution_count": 26,
   "metadata": {},
   "outputs": [
    {
     "data": {
      "text/html": [
       "<div>\n",
       "<style scoped>\n",
       "    .dataframe tbody tr th:only-of-type {\n",
       "        vertical-align: middle;\n",
       "    }\n",
       "\n",
       "    .dataframe tbody tr th {\n",
       "        vertical-align: top;\n",
       "    }\n",
       "\n",
       "    .dataframe thead th {\n",
       "        text-align: right;\n",
       "    }\n",
       "</style>\n",
       "<table border=\"1\" class=\"dataframe\">\n",
       "  <thead>\n",
       "    <tr style=\"text-align: right;\">\n",
       "      <th></th>\n",
       "      <th>Review</th>\n",
       "      <th>Rating</th>\n",
       "    </tr>\n",
       "  </thead>\n",
       "  <tbody>\n",
       "    <tr>\n",
       "      <th>0</th>\n",
       "      <td>nice hotel expensive parking got good deal stay hotel anniversary arrived late evening took advice previous reviews valet parking check quick easy little disappointed non existent view room room clean nice size bed comfortable woke stiff neck high pillows soundproof like heard music room night morning loud bangs doors opening closing hear people talking hallway maybe noisy neighbors aveda bath products nice goldfish stay nice touch taken advantage staying longer location great walking distance shopping overall nice experience pay 40 parking night</td>\n",
       "      <td>Positive</td>\n",
       "    </tr>\n",
       "    <tr>\n",
       "      <th>1</th>\n",
       "      <td>ok nothing special charge diamond member hilton decided chain shot 20th anniversary seattle start booked suite paid extra website description suite bedroom bathroom standard hotel room took printed reservation desk showed said things like tv couch ect desk clerk told oh mixed suites description kimpton website sorry free breakfast got kidding embassy suits sitting room bathroom bedroom unlike kimpton calls suite 5 day stay offer correct false advertising send kimpton preferred guest website email asking failure provide suite advertised website reservation description furnished hard copy reservation printout website desk manager duty reply solution send email trip guest survey follow email mail guess tell concerned guest staff ranged indifferent helpful asked desk good breakfast spots neighborhood hood told hotels gee best breakfast spots seattle 1 / 2 block away convenient hotel know exist arrived late night 11 pm inside run bellman busy chating cell phone help bags prior arrival emailed hotel inform 20th anniversary half really picky wanted make sure good got nice email saying like deliver bottle champagne chocolate covered strawberries room arrival celebrate told needed foam pillows arrival champagne strawberries foam pillows great room view alley high rise building good better housekeeping staff cleaner room property impressed left morning shopping room got short trips 2 hours beds comfortable good ac heat control 4 x 4 inch screen bring green shine directly eyes night light sensitive tape controls 4 start hotel clean business hotel super high rates better chain hotels seattle</td>\n",
       "      <td>Negative</td>\n",
       "    </tr>\n",
       "    <tr>\n",
       "      <th>2</th>\n",
       "      <td>nice rooms 4 * experience hotel monaco seattle good hotel n 4 * level positives large bathroom mediterranean suite comfortable bed pillowsattentive housekeeping staffnegatives ac unit malfunctioned stay desk disorganized missed 3 separate wakeup calls concierge busy hard touch n provide guidance special requests tv hard use ipod sound dock suite non functioning decided book mediterranean suite 3 night weekend stay 1st choice rest party filled comparison w spent 45 night larger square footage room great soaking tub whirlpool jets nice shower stay hotel arrange car service price 53 tip reasonable driver waiting arrival checkin easy downside room picked 2 person jacuzi tub bath accessories salts bubble bath n stay night got 12 / 1a checked voucher bottle champagne nice gesture fish waiting room impression room huge open space felt room big tv far away bed chore change channel ipod dock broken disappointing morning way asked desk check thermostat said 65f 74 2 degrees warm try cover face night bright blue light kept got room night 1st drop desk called maintainence came look thermostat told play settings happy digital box wo n work asked wakeup 10am morning n happen called later 6pm nap wakeup forgot 10am wakeup morning yep forgotten bathroom facilities great room surprised room sold whirlpool bath tub n bath amenities great relax water jets going</td>\n",
       "      <td>Positive</td>\n",
       "    </tr>\n",
       "    <tr>\n",
       "      <th>3</th>\n",
       "      <td>unique great stay wonderful time hotel monaco location excellent short stroll main downtown shopping area pet friendly room showed signs animal hair smells monaco suite sleeping area big striped curtains pulled closed nice touch felt cosy goldfish named brandi enjoyed n partake free wine coffee / tea service lobby thought great feature great staff friendly free wireless internet hotel worked suite 2 laptops decor lovely eclectic mix pattens color palatte animal print bathrobes feel like rock stars nice n look like sterile chain hotel hotel personality excellent stay</td>\n",
       "      <td>Positive</td>\n",
       "    </tr>\n",
       "    <tr>\n",
       "      <th>4</th>\n",
       "      <td>great stay great stay went seahawk game awesome downfall view building n complain room huge staff helpful booked hotels website seahawk package charge parking got voucher taxi problem taxi driver n want accept voucher barely spoke english funny thing speak arabic called started making comments girlfriend cell phone buddy took second realize said fact speak language face priceless ass told said large city told head doorman issue called cab company promply answer n apologized offered pay taxi bucks 2 miles stadium game plan taxi return going humpin great walk n mind right christmas wonderful lights homeless stowed away building entrances leave police presence greatest area stadium activities 7 blocks pike street waterfront great coffee shops way hotel mantained foyer awesome wine tasting available evening best dog taking st bernard time family safes hotel located service desk room bathroom huge jetted tub huge funny house keeping walked girlfriend getting dressed n hear knock turn service screamed girlfriend screams hit floor laughing started talking spanish worked place recommend price check online deals good better besite contains deals vouchers travel websites n tell</td>\n",
       "      <td>Positive</td>\n",
       "    </tr>\n",
       "  </tbody>\n",
       "</table>\n",
       "</div>"
      ],
      "text/plain": [
       "                                                                                                                                                                                                                                                                                                                                                                                                                                                                                                                                                                                                                                                                                                                                                                                                                                                                                                                                                                                                                                                                                                                                                                                                                                                                                                                                                                                                                                                                                                                                                                                                                                                                   Review  \\\n",
       "0  nice hotel expensive parking got good deal stay hotel anniversary arrived late evening took advice previous reviews valet parking check quick easy little disappointed non existent view room room clean nice size bed comfortable woke stiff neck high pillows soundproof like heard music room night morning loud bangs doors opening closing hear people talking hallway maybe noisy neighbors aveda bath products nice goldfish stay nice touch taken advantage staying longer location great walking distance shopping overall nice experience pay 40 parking night                                                                                                                                                                                                                                                                                                                                                                                                                                                                                                                                                                                                                                                                                                                                                                                                                                                                                                                                                                                                                                                                                                 \n",
       "1  ok nothing special charge diamond member hilton decided chain shot 20th anniversary seattle start booked suite paid extra website description suite bedroom bathroom standard hotel room took printed reservation desk showed said things like tv couch ect desk clerk told oh mixed suites description kimpton website sorry free breakfast got kidding embassy suits sitting room bathroom bedroom unlike kimpton calls suite 5 day stay offer correct false advertising send kimpton preferred guest website email asking failure provide suite advertised website reservation description furnished hard copy reservation printout website desk manager duty reply solution send email trip guest survey follow email mail guess tell concerned guest staff ranged indifferent helpful asked desk good breakfast spots neighborhood hood told hotels gee best breakfast spots seattle 1 / 2 block away convenient hotel know exist arrived late night 11 pm inside run bellman busy chating cell phone help bags prior arrival emailed hotel inform 20th anniversary half really picky wanted make sure good got nice email saying like deliver bottle champagne chocolate covered strawberries room arrival celebrate told needed foam pillows arrival champagne strawberries foam pillows great room view alley high rise building good better housekeeping staff cleaner room property impressed left morning shopping room got short trips 2 hours beds comfortable good ac heat control 4 x 4 inch screen bring green shine directly eyes night light sensitive tape controls 4 start hotel clean business hotel super high rates better chain hotels seattle   \n",
       "2  nice rooms 4 * experience hotel monaco seattle good hotel n 4 * level positives large bathroom mediterranean suite comfortable bed pillowsattentive housekeeping staffnegatives ac unit malfunctioned stay desk disorganized missed 3 separate wakeup calls concierge busy hard touch n provide guidance special requests tv hard use ipod sound dock suite non functioning decided book mediterranean suite 3 night weekend stay 1st choice rest party filled comparison w spent 45 night larger square footage room great soaking tub whirlpool jets nice shower stay hotel arrange car service price 53 tip reasonable driver waiting arrival checkin easy downside room picked 2 person jacuzi tub bath accessories salts bubble bath n stay night got 12 / 1a checked voucher bottle champagne nice gesture fish waiting room impression room huge open space felt room big tv far away bed chore change channel ipod dock broken disappointing morning way asked desk check thermostat said 65f 74 2 degrees warm try cover face night bright blue light kept got room night 1st drop desk called maintainence came look thermostat told play settings happy digital box wo n work asked wakeup 10am morning n happen called later 6pm nap wakeup forgot 10am wakeup morning yep forgotten bathroom facilities great room surprised room sold whirlpool bath tub n bath amenities great relax water jets going                                                                                                                                                                                                                                                     \n",
       "3  unique great stay wonderful time hotel monaco location excellent short stroll main downtown shopping area pet friendly room showed signs animal hair smells monaco suite sleeping area big striped curtains pulled closed nice touch felt cosy goldfish named brandi enjoyed n partake free wine coffee / tea service lobby thought great feature great staff friendly free wireless internet hotel worked suite 2 laptops decor lovely eclectic mix pattens color palatte animal print bathrobes feel like rock stars nice n look like sterile chain hotel hotel personality excellent stay                                                                                                                                                                                                                                                                                                                                                                                                                                                                                                                                                                                                                                                                                                                                                                                                                                                                                                                                                                                                                                                                             \n",
       "4  great stay great stay went seahawk game awesome downfall view building n complain room huge staff helpful booked hotels website seahawk package charge parking got voucher taxi problem taxi driver n want accept voucher barely spoke english funny thing speak arabic called started making comments girlfriend cell phone buddy took second realize said fact speak language face priceless ass told said large city told head doorman issue called cab company promply answer n apologized offered pay taxi bucks 2 miles stadium game plan taxi return going humpin great walk n mind right christmas wonderful lights homeless stowed away building entrances leave police presence greatest area stadium activities 7 blocks pike street waterfront great coffee shops way hotel mantained foyer awesome wine tasting available evening best dog taking st bernard time family safes hotel located service desk room bathroom huge jetted tub huge funny house keeping walked girlfriend getting dressed n hear knock turn service screamed girlfriend screams hit floor laughing started talking spanish worked place recommend price check online deals good better besite contains deals vouchers travel websites n tell                                                                                                                                                                                                                                                                                                                                                                                                                                       \n",
       "\n",
       "     Rating  \n",
       "0  Positive  \n",
       "1  Negative  \n",
       "2  Positive  \n",
       "3  Positive  \n",
       "4  Positive  "
      ]
     },
     "execution_count": 26,
     "metadata": {},
     "output_type": "execute_result"
    }
   ],
   "source": [
    "df.head()"
   ]
  },
  {
   "cell_type": "code",
   "execution_count": 27,
   "metadata": {},
   "outputs": [],
   "source": [
    "df_1 = df[df['Rating'] == 'Positive'].sample(frac=1)\n",
    "df_2 = df[df['Rating'] == 'Negative'].sample(frac=1)\n",
    "\n",
    "sample_sizes = min(len(df_1), len(df_2))\n",
    "\n",
    "data = pd.concat([df_1.head(sample_sizes), df_2.head(sample_sizes)]).sample(frac=1)"
   ]
  },
  {
   "cell_type": "code",
   "execution_count": 28,
   "metadata": {},
   "outputs": [
    {
     "name": "stdout",
     "output_type": "stream",
     "text": [
      "mean length of review: 109.36947728686994\n",
      "max length of review: 1926\n",
      "std dev length of review: 103.62077144270127\n"
     ]
    }
   ],
   "source": [
    "data['d'] = df['Review'].apply(lambda x: len(str(x).split(' ')))\n",
    "print('mean length of review: ' + str(data.d.mean()))\n",
    "print('max length of review: ' + str(data.d.max()))\n",
    "print('std dev length of review: ' + str(data.d.std()))"
   ]
  },
  {
   "cell_type": "markdown",
   "metadata": {},
   "source": [
    "<h3> Solid review sizes, and a lot of variation between them </h3>"
   ]
  },
  {
   "cell_type": "markdown",
   "metadata": {},
   "source": [
    "<h3> Time to use Tokenizer </h3>"
   ]
  },
  {
   "cell_type": "code",
   "execution_count": 29,
   "metadata": {},
   "outputs": [
    {
     "name": "stdout",
     "output_type": "stream",
     "text": [
      "test set size = 643\n",
      "[[1 0]\n",
      " [0 1]\n",
      " [1 0]\n",
      " ...\n",
      " [0 1]\n",
      " [1 0]\n",
      " [1 0]]\n"
     ]
    }
   ],
   "source": [
    "max_features =  51643 # number of words we care about \n",
    "\n",
    "sequence_length = 1926 #max review length from above\n",
    "\n",
    "tokenizer = Tokenizer(num_words=max_features, split= ' ', oov_token = '<unk>', filters = ' ')\n",
    "tokenizer.fit_on_texts(data['Review'].values)\n",
    "\n",
    "#Take sentences and replaces each word with an integer\n",
    "X = tokenizer.texts_to_sequences(data['Review'].values)\n",
    "\n",
    "#pad the sequences so they area all same len\n",
    "X = pad_sequences(X, sequence_length)\n",
    "\n",
    "y = pd.get_dummies(data['Rating']).values # binary\n",
    "\n",
    "#See if this works\n",
    "X_train, X_test, y_train, y_test = train_test_split(X, y, test_size = 0.1)\n",
    "\n",
    "\n",
    "print('test set size = ' + str(len(X_test)))\n",
    "print(y)"
   ]
  },
  {
   "cell_type": "markdown",
   "metadata": {},
   "source": [
    "<h1> GloVe Embeddings </h1>"
   ]
  },
  {
   "cell_type": "code",
   "execution_count": 30,
   "metadata": {},
   "outputs": [
    {
     "name": "stdout",
     "output_type": "stream",
     "text": [
      "# of word vectors: 400000\n"
     ]
    }
   ],
   "source": [
    "embeddings_index = {}\n",
    "\n",
    "fi = open('glove.6B.100d.txt')\n",
    "for line in fi:\n",
    "    values = line.split()\n",
    "    word = values[0]\n",
    "    coeffs = np.asarray(values[1:], dtype = 'float32')\n",
    "    embeddings_index[word] = coeffs\n",
    "fi.close()\n",
    "\n",
    "print('# of word vectors: {}'.format(len(embeddings_index)))"
   ]
  },
  {
   "cell_type": "markdown",
   "metadata": {},
   "source": [
    "<h3> Unique tokens </h3>"
   ]
  },
  {
   "cell_type": "code",
   "execution_count": 31,
   "metadata": {},
   "outputs": [
    {
     "name": "stdout",
     "output_type": "stream",
     "text": [
      "# of unique tokens: 30165\n"
     ]
    }
   ],
   "source": [
    "word_index = tokenizer.word_index\n",
    "print('# of unique tokens: {}'.format(len(word_index)))"
   ]
  },
  {
   "cell_type": "markdown",
   "metadata": {},
   "source": [
    "<h3> Find the word embedding (or vector) for each </h3>"
   ]
  },
  {
   "cell_type": "code",
   "execution_count": 32,
   "metadata": {},
   "outputs": [
    {
     "name": "stdout",
     "output_type": "stream",
     "text": [
      "30166\n"
     ]
    }
   ],
   "source": [
    "num_words = min(max_features, len(word_index)) + 1\n",
    "print(num_words)\n",
    "\n",
    "embedding_dim = 100\n",
    "\n",
    "#Create matrix of zeros, used as our embedding matrix\n",
    "embedding_matrix = np.zeros((num_words, embedding_dim))\n",
    "\n",
    "#for each word in the tokenizer lets try to find that work in our word 2 vec model\n",
    "for word, i in word_index.items():\n",
    "    if i > max_features:\n",
    "        continue\n",
    "    embedding_vector = embeddings_index.get(word)\n",
    "    if embedding_vector is not None:\n",
    "        #word exists, add its vector to th matrix\n",
    "        embedding_matrix[i] = embedding_vector\n",
    "    else:\n",
    "        #word does not exist, assign random vector\n",
    "        embedding_matrix[i] = np.random.randn(embedding_dim)"
   ]
  },
  {
   "cell_type": "markdown",
   "metadata": {},
   "source": [
    "<h3> The model. Need to specify the embeddings matrix (vectors that are representing the words) using Bi-Directional LSTM </h3>"
   ]
  },
  {
   "cell_type": "code",
   "execution_count": 33,
   "metadata": {},
   "outputs": [
    {
     "name": "stdout",
     "output_type": "stream",
     "text": [
      "_________________________________________________________________\n",
      "Layer (type)                 Output Shape              Param #   \n",
      "=================================================================\n",
      "embedding_2 (Embedding)      (None, 1926, 100)         3016600   \n",
      "_________________________________________________________________\n",
      "spatial_dropout1d_2 (Spatial (None, 1926, 100)         0         \n",
      "_________________________________________________________________\n",
      "bidirectional_3 (Bidirection (None, 1926, 128)         84480     \n",
      "_________________________________________________________________\n",
      "bidirectional_4 (Bidirection (None, 64)                41216     \n",
      "_________________________________________________________________\n",
      "dropout_2 (Dropout)          (None, 64)                0         \n",
      "_________________________________________________________________\n",
      "dense_2 (Dense)              (None, 2)                 130       \n",
      "=================================================================\n",
      "Total params: 3,142,426\n",
      "Trainable params: 3,142,426\n",
      "Non-trainable params: 0\n",
      "_________________________________________________________________\n",
      "None\n"
     ]
    }
   ],
   "source": [
    "model = Sequential()\n",
    "\n",
    "model.add(Embedding(num_words, embedding_dim, embeddings_initializer = Constant(embedding_matrix), input_length = sequence_length, \n",
    "                   trainable = True))\n",
    "model.add(SpatialDropout1D(0.3))\n",
    "model.add(Bidirectional(LSTM(64, return_sequences = True)))\n",
    "model.add(Bidirectional(LSTM(32)))\n",
    "#Dropout some 'neurons'\n",
    "model.add(Dropout(0.5))\n",
    "#Use softmax activation function, cross entropy loss as loss function, and adam for our optimizer\n",
    "model.add(Dense(units = 2, activation= 'softmax'))\n",
    "model.compile(loss = 'categorical_crossentropy', optimizer = 'adam', metrics = ['accuracy'])\n",
    "\n",
    "print(model.summary())"
   ]
  },
  {
   "cell_type": "code",
   "execution_count": 34,
   "metadata": {},
   "outputs": [
    {
     "name": "stdout",
     "output_type": "stream",
     "text": [
      "Train on 5206 samples, validate on 579 samples\n",
      "Epoch 1/8\n",
      "5206/5206 [==============================] - 338s 65ms/step - loss: 0.6577 - acc: 0.6020 - val_loss: 0.4985 - val_acc: 0.7668\n",
      "Epoch 2/8\n",
      "5206/5206 [==============================] - 331s 64ms/step - loss: 0.5180 - acc: 0.7612 - val_loss: 0.3848 - val_acc: 0.8428\n",
      "Epoch 3/8\n",
      "5206/5206 [==============================] - 340s 65ms/step - loss: 0.4822 - acc: 0.7735 - val_loss: 0.3982 - val_acc: 0.8480\n",
      "Epoch 4/8\n",
      "5206/5206 [==============================] - 334s 64ms/step - loss: 0.3926 - acc: 0.8406 - val_loss: 0.3781 - val_acc: 0.8463\n",
      "Epoch 5/8\n",
      "5206/5206 [==============================] - 335s 64ms/step - loss: 0.3476 - acc: 0.8598 - val_loss: 0.4483 - val_acc: 0.8152\n",
      "Epoch 6/8\n",
      "5206/5206 [==============================] - 397s 76ms/step - loss: 0.3253 - acc: 0.8730 - val_loss: 0.2993 - val_acc: 0.8722\n",
      "Epoch 7/8\n",
      "5206/5206 [==============================] - 336s 64ms/step - loss: 0.2516 - acc: 0.9065 - val_loss: 0.2655 - val_acc: 0.9033\n",
      "Epoch 8/8\n",
      "5206/5206 [==============================] - 531s 102ms/step - loss: 0.2254 - acc: 0.9184 - val_loss: 0.2413 - val_acc: 0.9102\n"
     ]
    }
   ],
   "source": [
    "batch_size = 128\n",
    "\n",
    "#8 epochs gives best results after running for 10 epochs this was discovered b/cuz validation acc dips after 8 epochs\n",
    "reviews_ = model.fit(X_train, y_train, epochs = 8, batch_size = batch_size, verbose = 1, validation_split = 0.1)"
   ]
  },
  {
   "cell_type": "markdown",
   "metadata": {},
   "source": [
    "<h3> Plot the training and validation accuracy and loss </h3>"
   ]
  },
  {
   "cell_type": "code",
   "execution_count": 35,
   "metadata": {},
   "outputs": [
    {
     "data": {
      "image/png": "[encoded data removed]",
      "text/plain": [
       "<Figure size 432x288 with 1 Axes>"
      ]
     },
     "metadata": {},
     "output_type": "display_data"
    },
    {
     "data": {
      "image/png": "[encoded data removed]",
      "text/plain": [
       "<Figure size 432x288 with 1 Axes>"
      ]
     },
     "metadata": {},
     "output_type": "display_data"
    }
   ],
   "source": [
    "#Accuracy Plot\n",
    "plt.plot(reviews_.history['acc'])\n",
    "plt.plot(reviews_.history['val_acc'])\n",
    "plt.title('Model Accuracy')\n",
    "plt.ylabel('Accuracy')\n",
    "plt.xlabel('Epoch')\n",
    "plt.legend(['Train', 'Validation'], loc = 'upper left')\n",
    "\n",
    "plt.show()\n",
    "\n",
    "#Loss Plot\n",
    "plt.plot(reviews_.history['loss'])\n",
    "plt.plot(reviews_.history['val_loss'])\n",
    "plt.title('Model Loss')\n",
    "plt.ylabel('Loss')\n",
    "plt.xlabel('Epoch')\n",
    "plt.legend(['Train', 'Validation'], loc = 'upper left')\n",
    "\n",
    "plt.show()"
   ]
  },
  {
   "cell_type": "markdown",
   "metadata": {},
   "source": [
    "<h3> Predict yhat using model </h3>"
   ]
  },
  {
   "cell_type": "code",
   "execution_count": 36,
   "metadata": {},
   "outputs": [],
   "source": [
    "yhat = model.predict(X_test)"
   ]
  },
  {
   "cell_type": "code",
   "execution_count": 37,
   "metadata": {},
   "outputs": [
    {
     "name": "stdout",
     "output_type": "stream",
     "text": [
      "0.8989113530326595\n"
     ]
    }
   ],
   "source": [
    "accu_ = accuracy_score(list(map(lambda x: np.argmax(x), y_test)), list(map(lambda x: np.argmax(x), yhat)))\n",
    "print(accu_)"
   ]
  },
  {
   "cell_type": "markdown",
   "metadata": {},
   "source": [
    "<h3> About 90% accuracy using bi-directional LSTM model, nice! </h3>"
   ]
  },
  {
   "cell_type": "code",
   "execution_count": 38,
   "metadata": {},
   "outputs": [
    {
     "data": {
      "text/plain": [
       "array([[286,  36],\n",
       "       [ 29, 292]])"
      ]
     },
     "execution_count": 38,
     "metadata": {},
     "output_type": "execute_result"
    }
   ],
   "source": [
    "#Confusion Matrix\n",
    "con = confusion_matrix(list(map(lambda x: np.argmax(x), y_test)), list(map(lambda x: np.argmax(x), yhat)))\n",
    "con"
   ]
  },
  {
   "cell_type": "code",
   "execution_count": 39,
   "metadata": {},
   "outputs": [
    {
     "data": {
      "text/plain": [
       "<matplotlib.image.AxesImage at 0x1a33007a20>"
      ]
     },
     "execution_count": 39,
     "metadata": {},
     "output_type": "execute_result"
    },
    {
     "data": {
      "image/png": "[encoded data removed]",
      "text/plain": [
       "<Figure size 432x288 with 1 Axes>"
      ]
     },
     "metadata": {},
     "output_type": "display_data"
    }
   ],
   "source": [
    "plt.imshow(con)"
   ]
  },
  {
   "cell_type": "code",
   "execution_count": 58,
   "metadata": {},
   "outputs": [
    {
     "data": {
      "text/html": [
       "<div>\n",
       "<style scoped>\n",
       "    .dataframe tbody tr th:only-of-type {\n",
       "        vertical-align: middle;\n",
       "    }\n",
       "\n",
       "    .dataframe tbody tr th {\n",
       "        vertical-align: top;\n",
       "    }\n",
       "\n",
       "    .dataframe thead th {\n",
       "        text-align: right;\n",
       "    }\n",
       "</style>\n",
       "<table border=\"1\" class=\"dataframe\">\n",
       "  <thead>\n",
       "    <tr style=\"text-align: right;\">\n",
       "      <th></th>\n",
       "      <th>Review</th>\n",
       "      <th>Rating</th>\n",
       "    </tr>\n",
       "  </thead>\n",
       "  <tbody>\n",
       "    <tr>\n",
       "      <th>0</th>\n",
       "      <td>nice hotel expensive parking got good deal stay hotel anniversary arrived late evening took advice previous reviews valet parking check quick easy little disappointed non existent view room room clean nice size bed comfortable woke stiff neck high pillows soundproof like heard music room night morning loud bangs doors opening closing hear people talking hallway maybe noisy neighbors aveda bath products nice goldfish stay nice touch taken advantage staying longer location great walking distance shopping overall nice experience pay 40 parking night</td>\n",
       "      <td>1</td>\n",
       "    </tr>\n",
       "    <tr>\n",
       "      <th>1</th>\n",
       "      <td>ok nothing special charge diamond member hilton decided chain shot 20th anniversary seattle start booked suite paid extra website description suite bedroom bathroom standard hotel room took printed reservation desk showed said things like tv couch ect desk clerk told oh mixed suites description kimpton website sorry free breakfast got kidding embassy suits sitting room bathroom bedroom unlike kimpton calls suite 5 day stay offer correct false advertising send kimpton preferred guest website email asking failure provide suite advertised website reservation description furnished hard copy reservation printout website desk manager duty reply solution send email trip guest survey follow email mail guess tell concerned guest staff ranged indifferent helpful asked desk good breakfast spots neighborhood hood told hotels gee best breakfast spots seattle 1 / 2 block away convenient hotel know exist arrived late night 11 pm inside run bellman busy chating cell phone help bags prior arrival emailed hotel inform 20th anniversary half really picky wanted make sure good got nice email saying like deliver bottle champagne chocolate covered strawberries room arrival celebrate told needed foam pillows arrival champagne strawberries foam pillows great room view alley high rise building good better housekeeping staff cleaner room property impressed left morning shopping room got short trips 2 hours beds comfortable good ac heat control 4 x 4 inch screen bring green shine directly eyes night light sensitive tape controls 4 start hotel clean business hotel super high rates better chain hotels seattle</td>\n",
       "      <td>1</td>\n",
       "    </tr>\n",
       "    <tr>\n",
       "      <th>2</th>\n",
       "      <td>nice rooms 4 * experience hotel monaco seattle good hotel n 4 * level positives large bathroom mediterranean suite comfortable bed pillowsattentive housekeeping staffnegatives ac unit malfunctioned stay desk disorganized missed 3 separate wakeup calls concierge busy hard touch n provide guidance special requests tv hard use ipod sound dock suite non functioning decided book mediterranean suite 3 night weekend stay 1st choice rest party filled comparison w spent 45 night larger square footage room great soaking tub whirlpool jets nice shower stay hotel arrange car service price 53 tip reasonable driver waiting arrival checkin easy downside room picked 2 person jacuzi tub bath accessories salts bubble bath n stay night got 12 / 1a checked voucher bottle champagne nice gesture fish waiting room impression room huge open space felt room big tv far away bed chore change channel ipod dock broken disappointing morning way asked desk check thermostat said 65f 74 2 degrees warm try cover face night bright blue light kept got room night 1st drop desk called maintainence came look thermostat told play settings happy digital box wo n work asked wakeup 10am morning n happen called later 6pm nap wakeup forgot 10am wakeup morning yep forgotten bathroom facilities great room surprised room sold whirlpool bath tub n bath amenities great relax water jets going</td>\n",
       "      <td>1</td>\n",
       "    </tr>\n",
       "    <tr>\n",
       "      <th>3</th>\n",
       "      <td>unique great stay wonderful time hotel monaco location excellent short stroll main downtown shopping area pet friendly room showed signs animal hair smells monaco suite sleeping area big striped curtains pulled closed nice touch felt cosy goldfish named brandi enjoyed n partake free wine coffee / tea service lobby thought great feature great staff friendly free wireless internet hotel worked suite 2 laptops decor lovely eclectic mix pattens color palatte animal print bathrobes feel like rock stars nice n look like sterile chain hotel hotel personality excellent stay</td>\n",
       "      <td>0</td>\n",
       "    </tr>\n",
       "    <tr>\n",
       "      <th>4</th>\n",
       "      <td>great stay great stay went seahawk game awesome downfall view building n complain room huge staff helpful booked hotels website seahawk package charge parking got voucher taxi problem taxi driver n want accept voucher barely spoke english funny thing speak arabic called started making comments girlfriend cell phone buddy took second realize said fact speak language face priceless ass told said large city told head doorman issue called cab company promply answer n apologized offered pay taxi bucks 2 miles stadium game plan taxi return going humpin great walk n mind right christmas wonderful lights homeless stowed away building entrances leave police presence greatest area stadium activities 7 blocks pike street waterfront great coffee shops way hotel mantained foyer awesome wine tasting available evening best dog taking st bernard time family safes hotel located service desk room bathroom huge jetted tub huge funny house keeping walked girlfriend getting dressed n hear knock turn service screamed girlfriend screams hit floor laughing started talking spanish worked place recommend price check online deals good better besite contains deals vouchers travel websites n tell</td>\n",
       "      <td>1</td>\n",
       "    </tr>\n",
       "  </tbody>\n",
       "</table>\n",
       "</div>"
      ],
      "text/plain": [
       "                                                                                                                                                                                                                                                                                                                                                                                                                                                                                                                                                                                                                                                                                                                                                                                                                                                                                                                                                                                                                                                                                                                                                                                                                                                                                                                                                                                                                                                                                                                                                                                                                                                                   Review  \\\n",
       "0  nice hotel expensive parking got good deal stay hotel anniversary arrived late evening took advice previous reviews valet parking check quick easy little disappointed non existent view room room clean nice size bed comfortable woke stiff neck high pillows soundproof like heard music room night morning loud bangs doors opening closing hear people talking hallway maybe noisy neighbors aveda bath products nice goldfish stay nice touch taken advantage staying longer location great walking distance shopping overall nice experience pay 40 parking night                                                                                                                                                                                                                                                                                                                                                                                                                                                                                                                                                                                                                                                                                                                                                                                                                                                                                                                                                                                                                                                                                                 \n",
       "1  ok nothing special charge diamond member hilton decided chain shot 20th anniversary seattle start booked suite paid extra website description suite bedroom bathroom standard hotel room took printed reservation desk showed said things like tv couch ect desk clerk told oh mixed suites description kimpton website sorry free breakfast got kidding embassy suits sitting room bathroom bedroom unlike kimpton calls suite 5 day stay offer correct false advertising send kimpton preferred guest website email asking failure provide suite advertised website reservation description furnished hard copy reservation printout website desk manager duty reply solution send email trip guest survey follow email mail guess tell concerned guest staff ranged indifferent helpful asked desk good breakfast spots neighborhood hood told hotels gee best breakfast spots seattle 1 / 2 block away convenient hotel know exist arrived late night 11 pm inside run bellman busy chating cell phone help bags prior arrival emailed hotel inform 20th anniversary half really picky wanted make sure good got nice email saying like deliver bottle champagne chocolate covered strawberries room arrival celebrate told needed foam pillows arrival champagne strawberries foam pillows great room view alley high rise building good better housekeeping staff cleaner room property impressed left morning shopping room got short trips 2 hours beds comfortable good ac heat control 4 x 4 inch screen bring green shine directly eyes night light sensitive tape controls 4 start hotel clean business hotel super high rates better chain hotels seattle   \n",
       "2  nice rooms 4 * experience hotel monaco seattle good hotel n 4 * level positives large bathroom mediterranean suite comfortable bed pillowsattentive housekeeping staffnegatives ac unit malfunctioned stay desk disorganized missed 3 separate wakeup calls concierge busy hard touch n provide guidance special requests tv hard use ipod sound dock suite non functioning decided book mediterranean suite 3 night weekend stay 1st choice rest party filled comparison w spent 45 night larger square footage room great soaking tub whirlpool jets nice shower stay hotel arrange car service price 53 tip reasonable driver waiting arrival checkin easy downside room picked 2 person jacuzi tub bath accessories salts bubble bath n stay night got 12 / 1a checked voucher bottle champagne nice gesture fish waiting room impression room huge open space felt room big tv far away bed chore change channel ipod dock broken disappointing morning way asked desk check thermostat said 65f 74 2 degrees warm try cover face night bright blue light kept got room night 1st drop desk called maintainence came look thermostat told play settings happy digital box wo n work asked wakeup 10am morning n happen called later 6pm nap wakeup forgot 10am wakeup morning yep forgotten bathroom facilities great room surprised room sold whirlpool bath tub n bath amenities great relax water jets going                                                                                                                                                                                                                                                     \n",
       "3  unique great stay wonderful time hotel monaco location excellent short stroll main downtown shopping area pet friendly room showed signs animal hair smells monaco suite sleeping area big striped curtains pulled closed nice touch felt cosy goldfish named brandi enjoyed n partake free wine coffee / tea service lobby thought great feature great staff friendly free wireless internet hotel worked suite 2 laptops decor lovely eclectic mix pattens color palatte animal print bathrobes feel like rock stars nice n look like sterile chain hotel hotel personality excellent stay                                                                                                                                                                                                                                                                                                                                                                                                                                                                                                                                                                                                                                                                                                                                                                                                                                                                                                                                                                                                                                                                             \n",
       "4  great stay great stay went seahawk game awesome downfall view building n complain room huge staff helpful booked hotels website seahawk package charge parking got voucher taxi problem taxi driver n want accept voucher barely spoke english funny thing speak arabic called started making comments girlfriend cell phone buddy took second realize said fact speak language face priceless ass told said large city told head doorman issue called cab company promply answer n apologized offered pay taxi bucks 2 miles stadium game plan taxi return going humpin great walk n mind right christmas wonderful lights homeless stowed away building entrances leave police presence greatest area stadium activities 7 blocks pike street waterfront great coffee shops way hotel mantained foyer awesome wine tasting available evening best dog taking st bernard time family safes hotel located service desk room bathroom huge jetted tub huge funny house keeping walked girlfriend getting dressed n hear knock turn service screamed girlfriend screams hit floor laughing started talking spanish worked place recommend price check online deals good better besite contains deals vouchers travel websites n tell                                                                                                                                                                                                                                                                                                                                                                                                                                       \n",
       "\n",
       "   Rating  \n",
       "0  1       \n",
       "1  1       \n",
       "2  1       \n",
       "3  0       \n",
       "4  1       "
      ]
     },
     "execution_count": 58,
     "metadata": {},
     "output_type": "execute_result"
    }
   ],
   "source": [
    "df_result = pd.DataFrame(list(zip(df['Review'].values, list(map(lambda x: np.argmax(x), yhat)))), columns = ['Review', 'Rating'])\n",
    "\n",
    "df_result.head()"
   ]
  },
  {
   "cell_type": "markdown",
   "metadata": {},
   "source": [
    "<h1> We can begin our postive 'words' and negative 'words' analysis </h1>"
   ]
  },
  {
   "cell_type": "code",
   "execution_count": 59,
   "metadata": {},
   "outputs": [
    {
     "data": {
      "text/plain": [
       "0    (0.20874404761904758, 0.687)              \n",
       "1    (0.23338827838827841, 0.49013634513634513)\n",
       "2    (0.2673160173160173, 0.6080808080808081)  \n",
       "3    (0.5048245614035087, 0.6912280701754385)  \n",
       "4    (0.47115384615384615, 0.6293956043956045) \n",
       "Name: Sentiment, dtype: object"
      ]
     },
     "execution_count": 59,
     "metadata": {},
     "output_type": "execute_result"
    }
   ],
   "source": [
    "def get_senti(x):\n",
    "    return TextBlob(x).sentiment\n",
    "\n",
    "df['Sentiment'] = df['Review'].apply(get_senti)\n",
    "\n",
    "df.Sentiment.head()"
   ]
  },
  {
   "cell_type": "code",
   "execution_count": 125,
   "metadata": {},
   "outputs": [
    {
     "name": "stdout",
     "output_type": "stream",
     "text": [
      "(20491,)\n",
      "(20491,)\n"
     ]
    }
   ],
   "source": [
    "X = df['Review']\n",
    "y = df['Rating']\n",
    "print(X.shape)\n",
    "print(y.shape)"
   ]
  },
  {
   "cell_type": "code",
   "execution_count": 126,
   "metadata": {},
   "outputs": [
    {
     "name": "stdout",
     "output_type": "stream",
     "text": [
      "51643\n"
     ]
    }
   ],
   "source": [
    "transform = CountVectorizer().fit(X)\n",
    "\n",
    "print(len(transform.vocabulary_))"
   ]
  },
  {
   "cell_type": "code",
   "execution_count": 127,
   "metadata": {},
   "outputs": [
    {
     "data": {
      "text/plain": [
       "(20491, 51643)"
      ]
     },
     "execution_count": 127,
     "metadata": {},
     "output_type": "execute_result"
    }
   ],
   "source": [
    "X = transform.transform(X)\n",
    "\n",
    "X.shape"
   ]
  },
  {
   "cell_type": "markdown",
   "metadata": {},
   "source": [
    "<h3> Now need to split on the new X and y after Count Vectorizer fitting </h3>"
   ]
  },
  {
   "cell_type": "code",
   "execution_count": 128,
   "metadata": {},
   "outputs": [
    {
     "data": {
      "text/plain": [
       "(18441, 51643)"
      ]
     },
     "execution_count": 128,
     "metadata": {},
     "output_type": "execute_result"
    }
   ],
   "source": [
    "X_train_2, X_test_2, y_train_2, y_test_2 = train_test_split(X, y, test_size = 0.1, random_state = 101)\n",
    "X_train_2.shape"
   ]
  },
  {
   "cell_type": "markdown",
   "metadata": {},
   "source": [
    "<h3> We will test using Logistic Regression since it is relatively easy to understand and implement </h3>"
   ]
  },
  {
   "cell_type": "code",
   "execution_count": 152,
   "metadata": {},
   "outputs": [
    {
     "name": "stdout",
     "output_type": "stream",
     "text": [
      "Accuracy for C = 0.01 : 0.9302439024390244\n",
      "Accuracy for C = 0.05 : 0.9370731707317074\n",
      "Accuracy for C = 0.25 : 0.9321951219512196\n",
      "Accuracy for C = 0.5 : 0.9307317073170732\n",
      "Accuracy for C = 1 : 0.9307317073170732\n"
     ]
    }
   ],
   "source": [
    "from sklearn.linear_model import LogisticRegression\n",
    "\n",
    "for c in [0.01, 0.05, 0.25, 0.5, 1]:\n",
    "    lr = LogisticRegression(C=c, solver = 'lbfgs', max_iter = 10000)\n",
    "    lr.fit(X_train_2, y_train_2)\n",
    "    print('Accuracy for C = {} : {}'.format(c, accuracy_score(y_test_2, lr.predict(X_test_2))))"
   ]
  },
  {
   "cell_type": "code",
   "execution_count": 153,
   "metadata": {},
   "outputs": [
    {
     "name": "stdout",
     "output_type": "stream",
     "text": [
      "Overall Accuracy : 0.9307317073170732\n"
     ]
    }
   ],
   "source": [
    "final_lr_model = LogisticRegression(C= 0.05, solver = 'lbfgs', max_iter = 10000)\n",
    "final_lr_model.fit(X_train_2, y_train_2)\n",
    "print('Overall Accuracy : {}'.format(accuracy_score(y_test_2, lr.predict(X_test_2))))"
   ]
  },
  {
   "cell_type": "markdown",
   "metadata": {},
   "source": [
    "<h3> Now we get top 10 positive words and top 10 negative words corresponding to that respective category of reviews \n",
    "using Logistic Regression with C= 0.05 because it performed better</h3>"
   ]
  },
  {
   "cell_type": "markdown",
   "metadata": {},
   "source": [
    "<h1> Words Mostly Associated to a Positive Review </h1>"
   ]
  },
  {
   "cell_type": "code",
   "execution_count": 157,
   "metadata": {},
   "outputs": [
    {
     "name": "stdout",
     "output_type": "stream",
     "text": [
      "('loved', 0.8140508523841947)\n",
      "('perfect', 0.7949666034866935)\n",
      "('wonderful', 0.7102937613085645)\n",
      "('fantastic', 0.6699652884654091)\n",
      "('excellent', 0.6389494482345646)\n",
      "('great', 0.6068718683343799)\n",
      "('fabulous', 0.541926637198534)\n",
      "('spacious', 0.52058053850218)\n",
      "('comfortable', 0.5000367412602873)\n",
      "('enjoyed', 0.4946711496072644)\n"
     ]
    }
   ],
   "source": [
    "feature_coef = {word : coef for word, coef in zip(transform.get_feature_names(), final_lr_model.coef_[0])}\n",
    "\n",
    "for best_positive in sorted(feature_coef.items(), key = lambda x: x[1], reverse=True)[:10]: \n",
    "    print(best_positive)"
   ]
  },
  {
   "cell_type": "markdown",
   "metadata": {},
   "source": [
    "<h1> Words Mostly Associated to a Negative Review </h1>"
   ]
  },
  {
   "cell_type": "code",
   "execution_count": 158,
   "metadata": {},
   "outputs": [
    {
     "name": "stdout",
     "output_type": "stream",
     "text": [
      "('worst', -0.8383362053385586)\n",
      "('terrible', -0.8228379404261366)\n",
      "('dirty', -0.7464824525802413)\n",
      "('rude', -0.7239107302506289)\n",
      "('unhelpful', -0.5785387292649637)\n",
      "('disappointing', -0.5713684387394983)\n",
      "('poor', -0.5554382901106442)\n",
      "('horrible', -0.5446870922647401)\n",
      "('awful', -0.5139837815091789)\n",
      "('disappointed', -0.48009535595221675)\n"
     ]
    }
   ],
   "source": [
    "for best_negative in sorted(feature_coef.items(), key = lambda x: x[1])[:10]: \n",
    "    print(best_negative)"
   ]
  },
  {
   "cell_type": "markdown",
   "metadata": {},
   "source": [
    "<h3> Thank you for looking at my project </h3>"
   ]
  },
  {
   "cell_type": "code",
   "execution_count": null,
   "metadata": {},
   "outputs": [],
   "source": []
  }
 ],
 "metadata": {
  "kernelspec": {
   "display_name": "Python 3",
   "language": "python",
   "name": "python3"
  },
  "language_info": {
   "codemirror_mode": {
    "name": "ipython",
    "version": 3
   },
   "file_extension": ".py",
   "mimetype": "text/x-python",
   "name": "python",
   "nbconvert_exporter": "python",
   "pygments_lexer": "ipython3",
   "version": "3.6.8"
  }
 },
 "nbformat": 4,
 "nbformat_minor": 2
}
